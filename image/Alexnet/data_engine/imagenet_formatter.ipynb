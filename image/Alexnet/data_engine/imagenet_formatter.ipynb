{
 "cells": [
  {
   "cell_type": "code",
   "execution_count": 2,
   "metadata": {},
   "outputs": [],
   "source": [
    "from glob import glob\n",
    "\n",
    "f_path = \"/media/logan/m.2/datasets/image/imagenet-dataset/2010/devkit-1.0/data/meta.mat\"\n",
    "tar_files = glob(\"/media/logan/m.2/datasets/image/imagenet-dataset/2010/train/*.tar\")"
   ]
  },
  {
   "cell_type": "code",
   "execution_count": 3,
   "metadata": {},
   "outputs": [
    {
     "name": "stdout",
     "output_type": "stream",
     "text": [
      "Requirement already satisfied: scipy in /home/logan/miniconda3/envs/lenet/lib/python3.11/site-packages (1.11.4)\n",
      "Requirement already satisfied: numpy<1.28.0,>=1.21.6 in /home/logan/miniconda3/envs/lenet/lib/python3.11/site-packages (from scipy) (1.26.2)\n"
     ]
    }
   ],
   "source": [
    "! pip install scipy"
   ]
  },
  {
   "cell_type": "code",
   "execution_count": 4,
   "metadata": {},
   "outputs": [],
   "source": [
    "import os\n",
    "import scipy.io\n",
    "\n",
    "mat_data = scipy.io.loadmat(f_path)\n",
    "metadata_map = {}\n",
    "tar_file_map = {}\n",
    "\n",
    "for metadata in mat_data['synsets']:\n",
    "    metadata_map[metadata[0][1][0]] = {\"metadata\":metadata, \"label\":metadata[0][2][0].split(\",\")[0]}\n",
    "\n",
    "for tar_file in tar_files:\n",
    "    tar_file_map[os.path.basename(tar_file).split(\".\")[0]] = tar_file\n",
    "    \n",
    "for key in tar_file_map.keys():\n",
    "    if key in  metadata_map.keys():\n",
    "        metadata_map[key]['tar_file'] = tar_file_map[key]"
   ]
  },
  {
   "cell_type": "code",
   "execution_count": 5,
   "metadata": {},
   "outputs": [
    {
     "data": {
      "text/plain": [
       "{'metadata': array([(array([[488]], dtype=uint16), array(['n01484850'], dtype='<U9'), array(['great white shark, white shark, man-eater, man-eating shark, Carcharodon carcharias'],\n",
       "              dtype='<U83'), array(['large aggressive shark widespread in warm seas; known to attack humans'],\n",
       "              dtype='<U70'), array([[0]], dtype=uint8), array([], shape=(1, 0), dtype=uint8), array([[0]], dtype=uint8), array([[1242]], dtype=uint16))                 ],\n",
       "       dtype=[('ILSVRC2010_ID', 'O'), ('WNID', 'O'), ('words', 'O'), ('gloss', 'O'), ('num_children', 'O'), ('children', 'O'), ('wordnet_height', 'O'), ('num_train_images', 'O')]),\n",
       " 'label': 'great white shark'}"
      ]
     },
     "execution_count": 5,
     "metadata": {},
     "output_type": "execute_result"
    }
   ],
   "source": [
    "metadata_map['n01484850']"
   ]
  },
  {
   "cell_type": "code",
   "execution_count": 6,
   "metadata": {},
   "outputs": [],
   "source": [
    "import os\n",
    "import tarfile\n",
    "\n",
    "def untar_into_directory(tar_file, target_directory):\n",
    "    \"\"\"\n",
    "    Untar a tar file into a target directory.\n",
    "\n",
    "    Args:\n",
    "        tar_file (str): Path to the tar file.\n",
    "        target_directory (str): Path to the target directory where the contents will be extracted.\n",
    "    \n",
    "    Returns:\n",
    "        None\n",
    "    \"\"\"\n",
    "    # Create the target directory if it doesn't exist\n",
    "    os.makedirs(target_directory, exist_ok=True)\n",
    "\n",
    "    # Open the tar file for reading\n",
    "    with tarfile.open(tar_file, 'r') as tar:\n",
    "        # Extract all the contents into the target directory\n",
    "        tar.extractall(path=target_directory)\n"
   ]
  },
  {
   "cell_type": "code",
   "execution_count": 7,
   "metadata": {},
   "outputs": [
    {
     "name": "stderr",
     "output_type": "stream",
     "text": [
      "  0%|          | 0/1676 [00:00<?, ?it/s]"
     ]
    },
    {
     "name": "stderr",
     "output_type": "stream",
     "text": [
      "100%|██████████| 1676/1676 [00:00<00:00, 6711.69it/s]\n"
     ]
    }
   ],
   "source": [
    "from tqdm.contrib.concurrent import process_map\n",
    "\n",
    "root_path = \"/media/logan/m.2/datasets/image/imagenet-dataset/2010/train\"\n",
    "\n",
    "def create_directory_for_tar_file(metadata):\n",
    "    if 'tar_file' in metadata.keys():\n",
    "        sub_folder = os.path.join(root_path, metadata['label'])\n",
    "        metadata['sub_folder'] = sub_folder\n",
    "        untar_into_directory(metadata['tar_file'], sub_folder)\n",
    "    return metadata\n",
    "\n",
    "updated_map = process_map(create_directory_for_tar_file, metadata_map.values(), max_workers=8, chunksize=4)\n"
   ]
  },
  {
   "cell_type": "code",
   "execution_count": 8,
   "metadata": {},
   "outputs": [
    {
     "data": {
      "text/plain": [
       "{'metadata': array([(array([[1]], dtype=uint8), array(['n07711080'], dtype='<U9'), array(['french fries, french-fried potatoes, fries, chips'], dtype='<U49'), array(['strips of potato fried in deep fat'], dtype='<U34'), array([[0]], dtype=uint8), array([], shape=(1, 0), dtype=uint8), array([[0]], dtype=uint8), array([[1487]], dtype=uint16))],\n",
       "       dtype=[('ILSVRC2010_ID', 'O'), ('WNID', 'O'), ('words', 'O'), ('gloss', 'O'), ('num_children', 'O'), ('children', 'O'), ('wordnet_height', 'O'), ('num_train_images', 'O')]),\n",
       " 'label': 'french fries'}"
      ]
     },
     "execution_count": 8,
     "metadata": {},
     "output_type": "execute_result"
    }
   ],
   "source": [
    "updated_map[0]"
   ]
  },
  {
   "cell_type": "code",
   "execution_count": 9,
   "metadata": {},
   "outputs": [
    {
     "data": {
      "text/plain": [
       "1261406"
      ]
     },
     "execution_count": 9,
     "metadata": {},
     "output_type": "execute_result"
    }
   ],
   "source": [
    "# now this is making the metadata file for the dataset\n",
    "\n",
    "images = glob(\"/media/logan/m.2/datasets/image/imagenet-dataset/2010/train/*/*.JPEG\")\n",
    "\n",
    "len(images)"
   ]
  },
  {
   "cell_type": "code",
   "execution_count": 10,
   "metadata": {},
   "outputs": [],
   "source": [
    "image_label_paris = []\n",
    "\n",
    "for image in images:\n",
    "    image_label_paris.append((image, os.path.basename(os.path.dirname(image))))"
   ]
  },
  {
   "cell_type": "code",
   "execution_count": 11,
   "metadata": {},
   "outputs": [
    {
     "data": {
      "text/plain": [
       "('/media/logan/m.2/datasets/image/imagenet-dataset/2010/train/bean/n13136316_16239.JPEG',\n",
       " 'bean')"
      ]
     },
     "execution_count": 11,
     "metadata": {},
     "output_type": "execute_result"
    }
   ],
   "source": [
    "image_label_paris[0]"
   ]
  },
  {
   "cell_type": "code",
   "execution_count": 15,
   "metadata": {},
   "outputs": [
    {
     "name": "stderr",
     "output_type": "stream",
     "text": [
      "  6%|▋         | 81552/1261406 [00:04<01:04, 18193.11it/s]/home/logan/miniconda3/envs/lenet/lib/python3.11/site-packages/PIL/TiffImagePlugin.py:866: UserWarning: Corrupt EXIF data.  Expecting to read 2 bytes but only got 0. \n",
      "  warnings.warn(str(msg))\n",
      " 90%|████████▉ | 1133495/1261406 [01:03<00:07, 18218.95it/s]/home/logan/miniconda3/envs/lenet/lib/python3.11/site-packages/PIL/TiffImagePlugin.py:866: UserWarning: Corrupt EXIF data.  Expecting to read 4 bytes but only got 0. \n",
      "  warnings.warn(str(msg))\n",
      " 91%|█████████ | 1144496/1261406 [01:04<00:06, 18158.89it/s]/home/logan/miniconda3/envs/lenet/lib/python3.11/site-packages/PIL/TiffImagePlugin.py:866: UserWarning: Truncated File Read\n",
      "  warnings.warn(str(msg))\n",
      "100%|██████████| 1261406/1261406 [01:11<00:00, 17738.58it/s]\n"
     ]
    }
   ],
   "source": [
    "from PIL import Image\n",
    "\n",
    "def check_image(image_label):\n",
    "    image, label = image_label\n",
    "    try:\n",
    "        img = Image.open(image)\n",
    "        if img.mode not in ['RGB', 'L']:  # 'L' for grayscale, 'RGB' for standard color\n",
    "            return None\n",
    "        return image_label\n",
    "    except:\n",
    "        return None\n",
    "\n",
    "\n",
    "\n",
    "from tqdm.contrib.concurrent import process_map\n",
    "from tqdm import tqdm\n",
    "\n",
    "\n",
    "new_pairs = []\n",
    "for pair in tqdm(image_label_paris):\n",
    "    new_pair  = check_image(pair)\n",
    "    if new_pair is not None:\n",
    "        new_pairs.append(new_pair)"
   ]
  },
  {
   "cell_type": "code",
   "execution_count": 16,
   "metadata": {},
   "outputs": [
    {
     "data": {
      "text/plain": [
       "(1261390, 1261406)"
      ]
     },
     "execution_count": 16,
     "metadata": {},
     "output_type": "execute_result"
    }
   ],
   "source": [
    "len(new_pairs), len(image_label_paris)"
   ]
  },
  {
   "cell_type": "code",
   "execution_count": 17,
   "metadata": {},
   "outputs": [],
   "source": [
    "import pandas as pd\n",
    "\n",
    "df = pd.DataFrame(new_pairs, columns=['image', 'label'])"
   ]
  },
  {
   "cell_type": "code",
   "execution_count": 18,
   "metadata": {},
   "outputs": [
    {
     "data": {
      "text/html": [
       "<div>\n",
       "<style scoped>\n",
       "    .dataframe tbody tr th:only-of-type {\n",
       "        vertical-align: middle;\n",
       "    }\n",
       "\n",
       "    .dataframe tbody tr th {\n",
       "        vertical-align: top;\n",
       "    }\n",
       "\n",
       "    .dataframe thead th {\n",
       "        text-align: right;\n",
       "    }\n",
       "</style>\n",
       "<table border=\"1\" class=\"dataframe\">\n",
       "  <thead>\n",
       "    <tr style=\"text-align: right;\">\n",
       "      <th></th>\n",
       "      <th>image</th>\n",
       "      <th>label</th>\n",
       "    </tr>\n",
       "  </thead>\n",
       "  <tbody>\n",
       "    <tr>\n",
       "      <th>0</th>\n",
       "      <td>/media/logan/m.2/datasets/image/imagenet-datas...</td>\n",
       "      <td>bean</td>\n",
       "    </tr>\n",
       "    <tr>\n",
       "      <th>1</th>\n",
       "      <td>/media/logan/m.2/datasets/image/imagenet-datas...</td>\n",
       "      <td>bean</td>\n",
       "    </tr>\n",
       "    <tr>\n",
       "      <th>2</th>\n",
       "      <td>/media/logan/m.2/datasets/image/imagenet-datas...</td>\n",
       "      <td>bean</td>\n",
       "    </tr>\n",
       "    <tr>\n",
       "      <th>3</th>\n",
       "      <td>/media/logan/m.2/datasets/image/imagenet-datas...</td>\n",
       "      <td>bean</td>\n",
       "    </tr>\n",
       "    <tr>\n",
       "      <th>4</th>\n",
       "      <td>/media/logan/m.2/datasets/image/imagenet-datas...</td>\n",
       "      <td>bean</td>\n",
       "    </tr>\n",
       "    <tr>\n",
       "      <th>...</th>\n",
       "      <td>...</td>\n",
       "      <td>...</td>\n",
       "    </tr>\n",
       "    <tr>\n",
       "      <th>1261385</th>\n",
       "      <td>/media/logan/m.2/datasets/image/imagenet-datas...</td>\n",
       "      <td>seashore</td>\n",
       "    </tr>\n",
       "    <tr>\n",
       "      <th>1261386</th>\n",
       "      <td>/media/logan/m.2/datasets/image/imagenet-datas...</td>\n",
       "      <td>seashore</td>\n",
       "    </tr>\n",
       "    <tr>\n",
       "      <th>1261387</th>\n",
       "      <td>/media/logan/m.2/datasets/image/imagenet-datas...</td>\n",
       "      <td>seashore</td>\n",
       "    </tr>\n",
       "    <tr>\n",
       "      <th>1261388</th>\n",
       "      <td>/media/logan/m.2/datasets/image/imagenet-datas...</td>\n",
       "      <td>seashore</td>\n",
       "    </tr>\n",
       "    <tr>\n",
       "      <th>1261389</th>\n",
       "      <td>/media/logan/m.2/datasets/image/imagenet-datas...</td>\n",
       "      <td>seashore</td>\n",
       "    </tr>\n",
       "  </tbody>\n",
       "</table>\n",
       "<p>1261390 rows × 2 columns</p>\n",
       "</div>"
      ],
      "text/plain": [
       "                                                     image     label\n",
       "0        /media/logan/m.2/datasets/image/imagenet-datas...      bean\n",
       "1        /media/logan/m.2/datasets/image/imagenet-datas...      bean\n",
       "2        /media/logan/m.2/datasets/image/imagenet-datas...      bean\n",
       "3        /media/logan/m.2/datasets/image/imagenet-datas...      bean\n",
       "4        /media/logan/m.2/datasets/image/imagenet-datas...      bean\n",
       "...                                                    ...       ...\n",
       "1261385  /media/logan/m.2/datasets/image/imagenet-datas...  seashore\n",
       "1261386  /media/logan/m.2/datasets/image/imagenet-datas...  seashore\n",
       "1261387  /media/logan/m.2/datasets/image/imagenet-datas...  seashore\n",
       "1261388  /media/logan/m.2/datasets/image/imagenet-datas...  seashore\n",
       "1261389  /media/logan/m.2/datasets/image/imagenet-datas...  seashore\n",
       "\n",
       "[1261390 rows x 2 columns]"
      ]
     },
     "execution_count": 18,
     "metadata": {},
     "output_type": "execute_result"
    }
   ],
   "source": [
    "df"
   ]
  },
  {
   "cell_type": "code",
   "execution_count": 19,
   "metadata": {},
   "outputs": [],
   "source": [
    "df_train = df.sample(frac=0.8, random_state=42)\n",
    "\n",
    "df_eval = df.drop(df_train.index)\n",
    "# df_eval = df_eval.sample(frac=0.5, random_state=42)"
   ]
  },
  {
   "cell_type": "code",
   "execution_count": 20,
   "metadata": {},
   "outputs": [
    {
     "data": {
      "text/plain": [
       "(1009112, 252278)"
      ]
     },
     "execution_count": 20,
     "metadata": {},
     "output_type": "execute_result"
    }
   ],
   "source": [
    "len(df_train), len(df_eval)"
   ]
  },
  {
   "cell_type": "code",
   "execution_count": 32,
   "metadata": {},
   "outputs": [],
   "source": [
    "df_train.to_csv(\"/media/logan/m.2/datasets/image/imagenet-dataset/2010/train.csv\", index=False, sep=\"|\")\n",
    "df_eval.to_csv(\"/media/logan/m.2/datasets/image/imagenet-dataset/2010/eval.csv\", index=False, sep=\"|\")"
   ]
  },
  {
   "cell_type": "code",
   "execution_count": null,
   "metadata": {},
   "outputs": [],
   "source": []
  }
 ],
 "metadata": {
  "kernelspec": {
   "display_name": "lenet",
   "language": "python",
   "name": "python3"
  },
  "language_info": {
   "codemirror_mode": {
    "name": "ipython",
    "version": 3
   },
   "file_extension": ".py",
   "mimetype": "text/x-python",
   "name": "python",
   "nbconvert_exporter": "python",
   "pygments_lexer": "ipython3",
   "version": "3.11.5"
  }
 },
 "nbformat": 4,
 "nbformat_minor": 2
}
