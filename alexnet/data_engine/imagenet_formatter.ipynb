{
 "cells": [
  {
   "cell_type": "code",
   "execution_count": 1,
   "metadata": {},
   "outputs": [],
   "source": [
    "from glob import glob\n",
    "\n",
    "f_path = \"/media/logan/m.2/datasets/image/imagenet-dataset/2012/ILSVRC2012_devkit_t12/data/meta.mat\"\n",
    "tar_files = glob(\"/media/logan/m.2/datasets/image/imagenet-dataset/2012/train/*.tar\")"
   ]
  },
  {
   "cell_type": "code",
   "execution_count": 2,
   "metadata": {},
   "outputs": [
    {
     "data": {
      "text/plain": [
       "1000"
      ]
     },
     "execution_count": 2,
     "metadata": {},
     "output_type": "execute_result"
    }
   ],
   "source": [
    "len(tar_files)"
   ]
  },
  {
   "cell_type": "code",
   "execution_count": null,
   "metadata": {},
   "outputs": [],
   "source": [
    "! pip install scipy"
   ]
  },
  {
   "cell_type": "code",
   "execution_count": 3,
   "metadata": {},
   "outputs": [],
   "source": [
    "import os\n",
    "import scipy.io\n",
    "\n",
    "mat_data = scipy.io.loadmat(f_path)\n",
    "metadata_map = {}\n",
    "tar_file_map = {}\n",
    "\n",
    "for metadata in mat_data['synsets']:\n",
    "    metadata_map[metadata[0][1][0]] = {\"label\": metadata[0][2][0].split(\",\")[0]}\n",
    "\n",
    "for tar_file in tar_files:\n",
    "    tar_file_map[os.path.basename(tar_file).split(\".\")[0]] = tar_file\n",
    "    \n",
    "for key in tar_file_map.keys():\n",
    "    if key in  metadata_map.keys():\n",
    "        metadata_map[key]['tar_file'] = tar_file_map[key]"
   ]
  },
  {
   "cell_type": "code",
   "execution_count": 4,
   "metadata": {},
   "outputs": [
    {
     "data": {
      "text/plain": [
       "{'label': 'great white shark',\n",
       " 'tar_file': '/media/logan/m.2/datasets/image/imagenet-dataset/2012/train/n01484850.tar'}"
      ]
     },
     "execution_count": 4,
     "metadata": {},
     "output_type": "execute_result"
    }
   ],
   "source": [
    "metadata_map['n01484850']"
   ]
  },
  {
   "cell_type": "code",
   "execution_count": 5,
   "metadata": {},
   "outputs": [],
   "source": [
    "import os\n",
    "import tarfile\n",
    "\n",
    "def untar_into_directory(tar_file, target_directory):\n",
    "    \"\"\"\n",
    "    Untar a tar file into a target directory.\n",
    "\n",
    "    Args:\n",
    "        tar_file (str): Path to the tar file.\n",
    "        target_directory (str): Path to the target directory where the contents will be extracted.\n",
    "    \n",
    "    Returns:\n",
    "        None\n",
    "    \"\"\"\n",
    "    # Create the target directory if it doesn't exist\n",
    "    os.makedirs(target_directory, exist_ok=True)\n",
    "\n",
    "    # Open the tar file for reading\n",
    "    with tarfile.open(tar_file, 'r') as tar:\n",
    "        # Extract all the contents into the target directory\n",
    "        tar.extractall(path=target_directory)\n"
   ]
  },
  {
   "cell_type": "code",
   "execution_count": 6,
   "metadata": {},
   "outputs": [
    {
     "data": {
      "text/plain": [
       "'n01484850'"
      ]
     },
     "execution_count": 6,
     "metadata": {},
     "output_type": "execute_result"
    }
   ],
   "source": [
    "import os\n",
    "os.path.basename(metadata_map['n01484850']['tar_file']).split(\".\")[0]"
   ]
  },
  {
   "cell_type": "code",
   "execution_count": null,
   "metadata": {},
   "outputs": [],
   "source": []
  },
  {
   "cell_type": "code",
   "execution_count": 7,
   "metadata": {},
   "outputs": [
    {
     "data": {
      "application/vnd.jupyter.widget-view+json": {
       "model_id": "ffc2194ec1d94c14b3ebd1e9d7d0cb0a",
       "version_major": 2,
       "version_minor": 0
      },
      "text/plain": [
       "  0%|          | 0/1860 [00:00<?, ?it/s]"
      ]
     },
     "metadata": {},
     "output_type": "display_data"
    }
   ],
   "source": [
    "from tqdm.contrib.concurrent import process_map\n",
    "\n",
    "root_path = \"/media/logan/m.2/datasets/image/imagenet-dataset/2012/train\"\n",
    "\n",
    "def create_directory_for_tar_file(metadata):\n",
    "    if 'tar_file' in metadata.keys():\n",
    "        sub_folder = os.path.join(root_path, os.path.basename(metadata['tar_file']).split(\".\")[0])\n",
    "        untar_into_directory(metadata['tar_file'], sub_folder)\n",
    "        return sub_folder\n",
    "\n",
    "updated_map = process_map(create_directory_for_tar_file, metadata_map.values(), max_workers=8, chunksize=4)\n"
   ]
  },
  {
   "cell_type": "code",
   "execution_count": 14,
   "metadata": {},
   "outputs": [
    {
     "data": {
      "text/plain": [
       "('/media/logan/m.2/datasets/image/imagenet-dataset/2012/train/n02119789',\n",
       " {'label': 'goldfish',\n",
       "  'tar_file': '/media/logan/m.2/datasets/image/imagenet-dataset/2012/train/n01443537.tar'})"
      ]
     },
     "execution_count": 14,
     "metadata": {},
     "output_type": "execute_result"
    }
   ],
   "source": [
    "updated_map[0], metadata_map['n01443537']"
   ]
  },
  {
   "cell_type": "code",
   "execution_count": 10,
   "metadata": {},
   "outputs": [
    {
     "data": {
      "text/plain": [
       "1281167"
      ]
     },
     "execution_count": 10,
     "metadata": {},
     "output_type": "execute_result"
    }
   ],
   "source": [
    "# now this is making the metadata file for the dataset\n",
    "\n",
    "images = glob(\"/media/logan/m.2/datasets/image/imagenet-dataset/2012/train/*/*.JPEG\")\n",
    "\n",
    "len(images)"
   ]
  },
  {
   "cell_type": "code",
   "execution_count": 12,
   "metadata": {},
   "outputs": [],
   "source": [
    "image_label_paris = []\n",
    "\n",
    "for image in images:\n",
    "    image_label_paris.append((image, os.path.basename(os.path.dirname(image))))"
   ]
  },
  {
   "cell_type": "code",
   "execution_count": 13,
   "metadata": {},
   "outputs": [
    {
     "data": {
      "text/plain": [
       "('/media/logan/m.2/datasets/image/imagenet-dataset/2012/train/n03930630/n03930630_24612.JPEG',\n",
       " 'n03930630')"
      ]
     },
     "execution_count": 13,
     "metadata": {},
     "output_type": "execute_result"
    }
   ],
   "source": [
    "image_label_paris[0]"
   ]
  },
  {
   "cell_type": "code",
   "execution_count": 15,
   "metadata": {},
   "outputs": [
    {
     "name": "stderr",
     "output_type": "stream",
     "text": [
      "100%|██████████| 1281167/1281167 [03:29<00:00, 6128.32it/s] \n"
     ]
    }
   ],
   "source": [
    "from PIL import Image\n",
    "\n",
    "def check_image(image_label):\n",
    "    image, label = image_label\n",
    "    try:\n",
    "        img = Image.open(image)\n",
    "        img.verify()\n",
    "        if img.mode not in ['RGB', 'L']:  # 'L' for grayscale, 'RGB' for standard color\n",
    "            return None\n",
    "        return image_label\n",
    "    except:\n",
    "        return None\n",
    "\n",
    "\n",
    "\n",
    "from tqdm.contrib.concurrent import process_map\n",
    "from tqdm import tqdm\n",
    "\n",
    "\n",
    "new_pairs = []\n",
    "for pair in tqdm(image_label_paris):\n",
    "    new_pair  = check_image(pair)\n",
    "    if new_pair is not None:\n",
    "        new_pairs.append(new_pair)"
   ]
  },
  {
   "cell_type": "code",
   "execution_count": 16,
   "metadata": {},
   "outputs": [
    {
     "data": {
      "text/plain": [
       "(1281144, 1281167)"
      ]
     },
     "execution_count": 16,
     "metadata": {},
     "output_type": "execute_result"
    }
   ],
   "source": [
    "len(new_pairs), len(image_label_paris)"
   ]
  },
  {
   "cell_type": "code",
   "execution_count": null,
   "metadata": {},
   "outputs": [],
   "source": [
    "new_pairs[0]"
   ]
  },
  {
   "cell_type": "code",
   "execution_count": 17,
   "metadata": {},
   "outputs": [],
   "source": [
    "folder_label_map = {}\n",
    "\n",
    "for pair in new_pairs:\n",
    "    key = pair[1]\n",
    "    label = metadata_map[pair[1]]['label']\n",
    "    folder_label_map[key] = label"
   ]
  },
  {
   "cell_type": "code",
   "execution_count": 18,
   "metadata": {},
   "outputs": [
    {
     "data": {
      "text/plain": [
       "'goldfish'"
      ]
     },
     "execution_count": 18,
     "metadata": {},
     "output_type": "execute_result"
    }
   ],
   "source": [
    "folder_label_map['n01443537']"
   ]
  },
  {
   "cell_type": "code",
   "execution_count": 19,
   "metadata": {},
   "outputs": [],
   "source": [
    "import json\n",
    "with open('folder_label_map.json', 'w') as fp:\n",
    "    json.dump(folder_label_map, fp)"
   ]
  },
  {
   "cell_type": "code",
   "execution_count": 20,
   "metadata": {},
   "outputs": [],
   "source": [
    "import pandas as pd\n",
    "\n",
    "df = pd.DataFrame(new_pairs, columns=['image', 'label'])"
   ]
  },
  {
   "cell_type": "code",
   "execution_count": 21,
   "metadata": {},
   "outputs": [
    {
     "data": {
      "text/html": [
       "<div>\n",
       "<style scoped>\n",
       "    .dataframe tbody tr th:only-of-type {\n",
       "        vertical-align: middle;\n",
       "    }\n",
       "\n",
       "    .dataframe tbody tr th {\n",
       "        vertical-align: top;\n",
       "    }\n",
       "\n",
       "    .dataframe thead th {\n",
       "        text-align: right;\n",
       "    }\n",
       "</style>\n",
       "<table border=\"1\" class=\"dataframe\">\n",
       "  <thead>\n",
       "    <tr style=\"text-align: right;\">\n",
       "      <th></th>\n",
       "      <th>image</th>\n",
       "      <th>label</th>\n",
       "    </tr>\n",
       "  </thead>\n",
       "  <tbody>\n",
       "    <tr>\n",
       "      <th>0</th>\n",
       "      <td>/media/logan/m.2/datasets/image/imagenet-datas...</td>\n",
       "      <td>n03930630</td>\n",
       "    </tr>\n",
       "    <tr>\n",
       "      <th>1</th>\n",
       "      <td>/media/logan/m.2/datasets/image/imagenet-datas...</td>\n",
       "      <td>n03930630</td>\n",
       "    </tr>\n",
       "    <tr>\n",
       "      <th>2</th>\n",
       "      <td>/media/logan/m.2/datasets/image/imagenet-datas...</td>\n",
       "      <td>n03930630</td>\n",
       "    </tr>\n",
       "    <tr>\n",
       "      <th>3</th>\n",
       "      <td>/media/logan/m.2/datasets/image/imagenet-datas...</td>\n",
       "      <td>n03930630</td>\n",
       "    </tr>\n",
       "    <tr>\n",
       "      <th>4</th>\n",
       "      <td>/media/logan/m.2/datasets/image/imagenet-datas...</td>\n",
       "      <td>n03930630</td>\n",
       "    </tr>\n",
       "    <tr>\n",
       "      <th>...</th>\n",
       "      <td>...</td>\n",
       "      <td>...</td>\n",
       "    </tr>\n",
       "    <tr>\n",
       "      <th>1281139</th>\n",
       "      <td>/media/logan/m.2/datasets/image/imagenet-datas...</td>\n",
       "      <td>n03207941</td>\n",
       "    </tr>\n",
       "    <tr>\n",
       "      <th>1281140</th>\n",
       "      <td>/media/logan/m.2/datasets/image/imagenet-datas...</td>\n",
       "      <td>n03207941</td>\n",
       "    </tr>\n",
       "    <tr>\n",
       "      <th>1281141</th>\n",
       "      <td>/media/logan/m.2/datasets/image/imagenet-datas...</td>\n",
       "      <td>n03207941</td>\n",
       "    </tr>\n",
       "    <tr>\n",
       "      <th>1281142</th>\n",
       "      <td>/media/logan/m.2/datasets/image/imagenet-datas...</td>\n",
       "      <td>n03207941</td>\n",
       "    </tr>\n",
       "    <tr>\n",
       "      <th>1281143</th>\n",
       "      <td>/media/logan/m.2/datasets/image/imagenet-datas...</td>\n",
       "      <td>n03207941</td>\n",
       "    </tr>\n",
       "  </tbody>\n",
       "</table>\n",
       "<p>1281144 rows × 2 columns</p>\n",
       "</div>"
      ],
      "text/plain": [
       "                                                     image      label\n",
       "0        /media/logan/m.2/datasets/image/imagenet-datas...  n03930630\n",
       "1        /media/logan/m.2/datasets/image/imagenet-datas...  n03930630\n",
       "2        /media/logan/m.2/datasets/image/imagenet-datas...  n03930630\n",
       "3        /media/logan/m.2/datasets/image/imagenet-datas...  n03930630\n",
       "4        /media/logan/m.2/datasets/image/imagenet-datas...  n03930630\n",
       "...                                                    ...        ...\n",
       "1281139  /media/logan/m.2/datasets/image/imagenet-datas...  n03207941\n",
       "1281140  /media/logan/m.2/datasets/image/imagenet-datas...  n03207941\n",
       "1281141  /media/logan/m.2/datasets/image/imagenet-datas...  n03207941\n",
       "1281142  /media/logan/m.2/datasets/image/imagenet-datas...  n03207941\n",
       "1281143  /media/logan/m.2/datasets/image/imagenet-datas...  n03207941\n",
       "\n",
       "[1281144 rows x 2 columns]"
      ]
     },
     "execution_count": 21,
     "metadata": {},
     "output_type": "execute_result"
    }
   ],
   "source": [
    "df"
   ]
  },
  {
   "cell_type": "code",
   "execution_count": 22,
   "metadata": {},
   "outputs": [],
   "source": [
    "df.to_csv('train.csv', index=False, sep=\"|\")"
   ]
  },
  {
   "cell_type": "code",
   "execution_count": 4,
   "metadata": {},
   "outputs": [
    {
     "data": {
      "text/plain": [
       "50000"
      ]
     },
     "execution_count": 4,
     "metadata": {},
     "output_type": "execute_result"
    }
   ],
   "source": [
    "from glob import glob\n",
    "\n",
    "valid_images = glob(\"/media/logan/m.2/datasets/image/imagenet-dataset/2012/val/*/*.JPEG\")\n",
    "\n",
    "len(valid_images)"
   ]
  },
  {
   "cell_type": "code",
   "execution_count": 5,
   "metadata": {},
   "outputs": [
    {
     "name": "stderr",
     "output_type": "stream",
     "text": [
      "100%|██████████| 50000/50000 [00:04<00:00, 11304.38it/s]\n"
     ]
    }
   ],
   "source": [
    "from PIL import Image\n",
    "\n",
    "def check_image(image):\n",
    "    try:\n",
    "        img = Image.open(image)\n",
    "        img.verify()\n",
    "        if img.mode not in ['RGB', 'L']:  # 'L' for grayscale, 'RGB' for standard color\n",
    "            return None\n",
    "        return image\n",
    "    except:\n",
    "        return None\n",
    "\n",
    "\n",
    "\n",
    "from tqdm.contrib.concurrent import process_map\n",
    "from tqdm import tqdm\n",
    "\n",
    "\n",
    "new_pairs = []\n",
    "for pair in tqdm(valid_images):\n",
    "    new_pair  = check_image(pair)\n",
    "    if new_pair is not None:\n",
    "        new_pairs.append(new_pair)"
   ]
  },
  {
   "cell_type": "code",
   "execution_count": 6,
   "metadata": {},
   "outputs": [
    {
     "data": {
      "text/plain": [
       "49999"
      ]
     },
     "execution_count": 6,
     "metadata": {},
     "output_type": "execute_result"
    }
   ],
   "source": [
    "len(new_pairs)"
   ]
  },
  {
   "cell_type": "code",
   "execution_count": 9,
   "metadata": {},
   "outputs": [
    {
     "data": {
      "text/html": [
       "<div>\n",
       "<style scoped>\n",
       "    .dataframe tbody tr th:only-of-type {\n",
       "        vertical-align: middle;\n",
       "    }\n",
       "\n",
       "    .dataframe tbody tr th {\n",
       "        vertical-align: top;\n",
       "    }\n",
       "\n",
       "    .dataframe thead th {\n",
       "        text-align: right;\n",
       "    }\n",
       "</style>\n",
       "<table border=\"1\" class=\"dataframe\">\n",
       "  <thead>\n",
       "    <tr style=\"text-align: right;\">\n",
       "      <th></th>\n",
       "      <th>image</th>\n",
       "      <th>label</th>\n",
       "    </tr>\n",
       "  </thead>\n",
       "  <tbody>\n",
       "    <tr>\n",
       "      <th>0</th>\n",
       "      <td>/media/logan/m.2/datasets/image/imagenet-datas...</td>\n",
       "      <td>n03930630</td>\n",
       "    </tr>\n",
       "    <tr>\n",
       "      <th>1</th>\n",
       "      <td>/media/logan/m.2/datasets/image/imagenet-datas...</td>\n",
       "      <td>n03930630</td>\n",
       "    </tr>\n",
       "    <tr>\n",
       "      <th>2</th>\n",
       "      <td>/media/logan/m.2/datasets/image/imagenet-datas...</td>\n",
       "      <td>n03930630</td>\n",
       "    </tr>\n",
       "    <tr>\n",
       "      <th>3</th>\n",
       "      <td>/media/logan/m.2/datasets/image/imagenet-datas...</td>\n",
       "      <td>n03930630</td>\n",
       "    </tr>\n",
       "    <tr>\n",
       "      <th>4</th>\n",
       "      <td>/media/logan/m.2/datasets/image/imagenet-datas...</td>\n",
       "      <td>n03930630</td>\n",
       "    </tr>\n",
       "    <tr>\n",
       "      <th>...</th>\n",
       "      <td>...</td>\n",
       "      <td>...</td>\n",
       "    </tr>\n",
       "    <tr>\n",
       "      <th>49994</th>\n",
       "      <td>/media/logan/m.2/datasets/image/imagenet-datas...</td>\n",
       "      <td>n03207941</td>\n",
       "    </tr>\n",
       "    <tr>\n",
       "      <th>49995</th>\n",
       "      <td>/media/logan/m.2/datasets/image/imagenet-datas...</td>\n",
       "      <td>n03207941</td>\n",
       "    </tr>\n",
       "    <tr>\n",
       "      <th>49996</th>\n",
       "      <td>/media/logan/m.2/datasets/image/imagenet-datas...</td>\n",
       "      <td>n03207941</td>\n",
       "    </tr>\n",
       "    <tr>\n",
       "      <th>49997</th>\n",
       "      <td>/media/logan/m.2/datasets/image/imagenet-datas...</td>\n",
       "      <td>n03207941</td>\n",
       "    </tr>\n",
       "    <tr>\n",
       "      <th>49998</th>\n",
       "      <td>/media/logan/m.2/datasets/image/imagenet-datas...</td>\n",
       "      <td>n03207941</td>\n",
       "    </tr>\n",
       "  </tbody>\n",
       "</table>\n",
       "<p>49999 rows × 2 columns</p>\n",
       "</div>"
      ],
      "text/plain": [
       "                                                   image      label\n",
       "0      /media/logan/m.2/datasets/image/imagenet-datas...  n03930630\n",
       "1      /media/logan/m.2/datasets/image/imagenet-datas...  n03930630\n",
       "2      /media/logan/m.2/datasets/image/imagenet-datas...  n03930630\n",
       "3      /media/logan/m.2/datasets/image/imagenet-datas...  n03930630\n",
       "4      /media/logan/m.2/datasets/image/imagenet-datas...  n03930630\n",
       "...                                                  ...        ...\n",
       "49994  /media/logan/m.2/datasets/image/imagenet-datas...  n03207941\n",
       "49995  /media/logan/m.2/datasets/image/imagenet-datas...  n03207941\n",
       "49996  /media/logan/m.2/datasets/image/imagenet-datas...  n03207941\n",
       "49997  /media/logan/m.2/datasets/image/imagenet-datas...  n03207941\n",
       "49998  /media/logan/m.2/datasets/image/imagenet-datas...  n03207941\n",
       "\n",
       "[49999 rows x 2 columns]"
      ]
     },
     "execution_count": 9,
     "metadata": {},
     "output_type": "execute_result"
    }
   ],
   "source": [
    "import os\n",
    "import pandas as pd\n",
    "image_label_pairs_val = []\n",
    "\n",
    "for image in new_pairs:\n",
    "    image_label_pairs_val.append((image, os.path.basename(os.path.dirname(image))))\n",
    "    \n",
    "len(image_label_pairs_val)\n",
    "\n",
    "df_val = pd.DataFrame(image_label_pairs_val, columns=['image', 'label'])\n",
    "\n",
    "df_val"
   ]
  },
  {
   "cell_type": "code",
   "execution_count": 10,
   "metadata": {},
   "outputs": [],
   "source": [
    "df_val.to_csv('eval.csv', index=False, sep=\"|\")"
   ]
  },
  {
   "cell_type": "code",
   "execution_count": null,
   "metadata": {},
   "outputs": [],
   "source": [
    "s"
   ]
  }
 ],
 "metadata": {
  "kernelspec": {
   "display_name": "lenet",
   "language": "python",
   "name": "python3"
  },
  "language_info": {
   "codemirror_mode": {
    "name": "ipython",
    "version": 3
   },
   "file_extension": ".py",
   "mimetype": "text/x-python",
   "name": "python",
   "nbconvert_exporter": "python",
   "pygments_lexer": "ipython3",
   "version": "3.11.5"
  }
 },
 "nbformat": 4,
 "nbformat_minor": 2
}
